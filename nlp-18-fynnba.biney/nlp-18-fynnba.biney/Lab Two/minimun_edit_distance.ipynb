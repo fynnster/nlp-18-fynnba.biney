{
 "cells": [
  {
   "cell_type": "markdown",
   "metadata": {},
   "source": [
    "# Minimal Edit Distance "
   ]
  },
  {
   "cell_type": "code",
   "execution_count": 1,
   "metadata": {},
   "outputs": [],
   "source": [
    "from numpy import *"
   ]
  },
  {
   "cell_type": "code",
   "execution_count": 76,
   "metadata": {},
   "outputs": [],
   "source": [
    "def min_edit_distance(source_word, target_word):  \n",
    "    len_source_word = len(source_word)+ 1\n",
    "    len_target_word = len(target_word)+ 1\n",
    "    the_matrix = zeros ((len_source_word, len_target_word))\n",
    "    \n",
    "    for x in range(len_source_word):\n",
    "        the_matrix [x, 0] = x\n",
    "        \n",
    "    for y in range(len_target_word):\n",
    "        the_matrix [0, y] = y\n",
    "        \n",
    "#This is \n",
    "    for x in range(1, len_source_word):\n",
    "        for y in range(1, len_target_word):\n",
    "            #print(source_word[x-1], target_word[y-1])\n",
    "            if source_word[x-1] == target_word[y-1]:\n",
    "                the_matrix [x,y] = min(\n",
    "                    the_matrix[x-1, y] + 1,\n",
    "                    the_matrix[x, y-1] + 1,\n",
    "                    the_matrix[x-1, y-1]+ 0)\n",
    "            else:\n",
    "               # print(source_word[x-1], target_word[y-1])\n",
    "                the_matrix [x,y] = min(\n",
    "                    the_matrix[x-1,y] + 1,\n",
    "                    the_matrix[x,y-1] + 1,\n",
    "                    the_matrix[x-1,y-1] + 2)\n",
    "            \n",
    "            \n",
    "                \n",
    "    print(\"The Matrix Results\")            \n",
    "    print (the_matrix)\n",
    "    print (\"The minimal edit distance between \"+source_word+\" and the \"+target_word+\" is \" + str(int(the_matrix[len_source_word - 1, len_target_word - 1]))+\".\")"
   ]
  },
  {
   "cell_type": "code",
   "execution_count": 77,
   "metadata": {},
   "outputs": [
    {
     "name": "stdout",
     "output_type": "stream",
     "text": [
      "The Matrix Results\n",
      "[[ 0.  1.  2.  3.  4.  5.  6.  7.  8.  9.]\n",
      " [ 1.  2.  3.  4.  3.  4.  5.  6.  7.  8.]\n",
      " [ 2.  3.  4.  5.  4.  5.  6.  7.  8.  9.]\n",
      " [ 3.  4.  5.  6.  5.  6.  7.  8.  9. 10.]\n",
      " [ 4.  5.  6.  7.  6.  7.  8.  9. 10. 11.]\n",
      " [ 5.  6.  7.  8.  7.  8.  9. 10. 11. 12.]\n",
      " [ 6.  7.  8.  7.  8.  9.  8.  9. 10. 11.]\n",
      " [ 7.  6.  7.  8.  9. 10.  9.  8.  9. 10.]\n",
      " [ 8.  7.  8.  9. 10. 11. 10.  9.  8.  9.]\n",
      " [ 9.  8.  7.  8.  9. 10. 11. 10.  9.  8.]]\n",
      "The minimal edit distance between execution and the intention is 8.\n",
      "The Matrix Results\n",
      "[[0. 1. 2. 3. 4.]\n",
      " [1. 2. 3. 4. 5.]\n",
      " [2. 3. 2. 3. 4.]\n",
      " [3. 4. 3. 4. 3.]\n",
      " [4. 5. 4. 5. 4.]]\n",
      "The minimal edit distance between tell and the feel is 4.\n"
     ]
    }
   ],
   "source": [
    "min_edit_distance(\"execution\", \"intention\")\n",
    "\n",
    "min_edit_distance(\"tell\", \"feel\")"
   ]
  },
  {
   "cell_type": "code",
   "execution_count": null,
   "metadata": {},
   "outputs": [],
   "source": []
  },
  {
   "cell_type": "code",
   "execution_count": null,
   "metadata": {},
   "outputs": [],
   "source": []
  },
  {
   "cell_type": "code",
   "execution_count": null,
   "metadata": {},
   "outputs": [],
   "source": []
  }
 ],
 "metadata": {
  "kernelspec": {
   "display_name": "Python 3",
   "language": "python",
   "name": "python3"
  },
  "language_info": {
   "codemirror_mode": {
    "name": "ipython",
    "version": 3
   },
   "file_extension": ".py",
   "mimetype": "text/x-python",
   "name": "python",
   "nbconvert_exporter": "python",
   "pygments_lexer": "ipython3",
   "version": "3.7.0"
  }
 },
 "nbformat": 4,
 "nbformat_minor": 2
}
