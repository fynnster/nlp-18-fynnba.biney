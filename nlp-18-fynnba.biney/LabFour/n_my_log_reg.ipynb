{
 "cells": [
  {
   "cell_type": "code",
   "execution_count": 1,
   "metadata": {},
   "outputs": [],
   "source": [
    "import numpy as np  \n",
    "import random\n",
    "import re  \n",
    "from sklearn.ensemble import RandomForestClassifier  \n",
    "import nltk \n",
    "from sklearn.model_selection import train_test_split  \n",
    "from sklearn.feature_extraction.text import CountVectorizer \n",
    "from sklearn.feature_extraction.text import TfidfVectorizer\n",
    "from sklearn.metrics import classification_report, confusion_matrix, accuracy_score\n",
    "from nltk.corpus import stopwords  "
   ]
  },
  {
   "cell_type": "code",
   "execution_count": 2,
   "metadata": {},
   "outputs": [],
   "source": [
    "def readTXTAndClean():\n",
    "    file = open(\"newfile.txt\", \"r\") \n",
    "    mass_list=[]\n",
    "\n",
    "    a_line = file.readlines()\n",
    "    \n",
    "    \n",
    "    for line in a_line:\n",
    "        #removing all speciel characters, multiple spaces and single characters\n",
    "        c_line = re.sub(\"[^a-zA-Z10]\", \" \", line.lower())\n",
    "        c_line2 = re.sub(r'\\s+', ' ', c_line, flags=re.I)\n",
    "        c_line2 = re.sub(r'\\s+[a-zA-Z]\\s+', ' ', c_line2)\n",
    "        c_line2 = re.sub(r\"[\\n,.-/]\",\"\", c_line2)\n",
    "        \n",
    "        #create final mass list of strings(features)\n",
    "        mass_list.append(c_line2)\n",
    "\n",
    "    random.shuffle(mass_list)\n",
    "    file.close()\n",
    "    return mass_list"
   ]
  },
  {
   "cell_type": "code",
   "execution_count": 3,
   "metadata": {},
   "outputs": [],
   "source": [
    "def masslist_split(massList):\n",
    "    features =[]\n",
    "    classes =[]\n",
    "\n",
    "    #to seperate the feature from its actual class\n",
    "    for i in range(len(massList)):\n",
    "        feature = massList[i][:-3]\n",
    "        classe = massList[i][-2:-1]\n",
    "        \n",
    "        features.append(feature)\n",
    "        classes.append(classe)\n",
    "        \n",
    "    return features, classes"
   ]
  },
  {
   "cell_type": "code",
   "execution_count": 24,
   "metadata": {},
   "outputs": [],
   "source": [
    "def log_reg(features, classes): \n",
    "    \n",
    "    #this selects 80% of the traning data, uses words that appear atleast 3 times\n",
    "    #and then converts the features into their number equivalent\n",
    "    vectorizer = CountVectorizer(max_features=3000, min_df=3, max_df=0.8, stop_words=stopwords.words('english'))  \n",
    "    X = vectorizer.fit_transform(features).toarray() \n",
    "      \n",
    "    tfidfconverter = TfidfVectorizer(max_features=3000, min_df=3, max_df=0.8, stop_words=stopwords.words('english'))  \n",
    "    X = tfidfconverter.fit_transform(features).toarray()\n",
    "          \n",
    "    #this plits the data into training and testing data    \n",
    "    #X_train, X_test, y_train, y_test = train_test_split(X, classes, test_size=0.2, random_state=0)  \n",
    "    \n",
    "    #this uses the RandomForestClassifier to create a data model(a logistic regression)\n",
    "    classifier = RandomForestClassifier(n_estimators=1000, random_state=0)  \n",
    "    classifier.fit(X, classes) \n",
    "    \n",
    "    #this tests the model\n",
    "    docs_new = []\n",
    "    file = open(\"test_sentences.txt\", \"r\")\n",
    "    a_line = file.readlines()\n",
    "\n",
    "    for line in a_line:\n",
    "        docs_new.append(line)\n",
    "    \n",
    "    new_X = vectorizer.fit_transform(docs_new).toarray()  \n",
    "    new_X = tfidfconverter.transform(docs_new).toarray()  \n",
    "    \n",
    "    \n",
    "    ######\n",
    "  \n",
    "    \n",
    "    #this then runs the test data\n",
    "    y_pred = classifier.predict(new_X) \n",
    "    #print(y_pred)\n",
    "    \n",
    "\n",
    "    #print(confusion_matrix(classes,y_pred))  \n",
    "    #print(classification_report(classes,y_pred))  \n",
    "    #print(\"The accuracy score is \",accuracy_score(classes, y_pred))\n",
    "    \n",
    "    return y_pred    \n"
   ]
  },
  {
   "cell_type": "code",
   "execution_count": 23,
   "metadata": {},
   "outputs": [
    {
     "name": "stdout",
     "output_type": "stream",
     "text": [
      "['1' '0' '0' '0' '0' '0' '1' '1' '1' '1' '0' '0' '1' '1' '0' '0' '1' '1'\n",
      " '1' '0' '1' '1' '0' '0' '1']\n"
     ]
    }
   ],
   "source": [
    "def n_myLogReg():\n",
    "    massList = readTXTAndClean()\n",
    "    features, classes = masslist_split(massList)\n",
    "    y_pred = log_reg(features, classes)\n",
    "    \n",
    "    \n",
    "    with open(\"results_n_myLogReg.txt\", \"w+\") as file:\n",
    "        file.write(str(y_pred))\n",
    "\n",
    "n_myLogReg()    \n"
   ]
  },
  {
   "cell_type": "code",
   "execution_count": null,
   "metadata": {},
   "outputs": [],
   "source": []
  },
  {
   "cell_type": "code",
   "execution_count": null,
   "metadata": {},
   "outputs": [],
   "source": []
  },
  {
   "cell_type": "code",
   "execution_count": null,
   "metadata": {},
   "outputs": [],
   "source": []
  },
  {
   "cell_type": "code",
   "execution_count": null,
   "metadata": {},
   "outputs": [],
   "source": []
  },
  {
   "cell_type": "code",
   "execution_count": null,
   "metadata": {},
   "outputs": [],
   "source": []
  },
  {
   "cell_type": "code",
   "execution_count": null,
   "metadata": {},
   "outputs": [],
   "source": []
  },
  {
   "cell_type": "code",
   "execution_count": null,
   "metadata": {},
   "outputs": [],
   "source": []
  }
 ],
 "metadata": {
  "kernelspec": {
   "display_name": "Python 3",
   "language": "python",
   "name": "python3"
  },
  "language_info": {
   "codemirror_mode": {
    "name": "ipython",
    "version": 3
   },
   "file_extension": ".py",
   "mimetype": "text/x-python",
   "name": "python",
   "nbconvert_exporter": "python",
   "pygments_lexer": "ipython3",
   "version": "3.7.0"
  }
 },
 "nbformat": 4,
 "nbformat_minor": 2
}
