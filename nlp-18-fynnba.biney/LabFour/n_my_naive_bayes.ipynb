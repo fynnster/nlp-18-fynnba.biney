{
 "cells": [
  {
   "cell_type": "code",
   "execution_count": 10,
   "metadata": {},
   "outputs": [],
   "source": [
    "import nltk  \n",
    "import numpy as np  \n",
    "import random\n",
    "import re  \n",
    "from nltk.stem import PorterStemmer\n",
    "from sklearn.model_selection import train_test_split\n",
    "from sklearn.naive_bayes import MultinomialNB\n",
    "from sklearn.feature_extraction.text import TfidfTransformer\n",
    "from sklearn.feature_extraction.text import CountVectorizer\n",
    "from sklearn.metrics import classification_report, confusion_matrix, accuracy_score\n",
    "import pickle  "
   ]
  },
  {
   "cell_type": "code",
   "execution_count": 1,
   "metadata": {},
   "outputs": [],
   "source": [
    "def readTXTAndClean():\n",
    "    file = open(\"newfile.txt\", \"r\") \n",
    "    mass_list=[]\n",
    "\n",
    "    a_line = file.readlines()\n",
    "    \n",
    "    \n",
    "    for line in a_line:\n",
    "        #removing all speciel characters, multiple spaces and single characters\n",
    "        c_line = re.sub(\"[^a-zA-Z10]\", \" \", line.lower())\n",
    "        c_line2 = re.sub(r'\\s+', ' ', c_line, flags=re.I)\n",
    "        c_line2 = re.sub(r'\\s+[a-zA-Z]\\s+', ' ', c_line2)\n",
    "        c_line2 = re.sub(r\"[\\n,.-/]\",\"\", c_line2)\n",
    "        \n",
    "        #create final mass list of strings(features)\n",
    "        mass_list.append(c_line2)\n",
    "\n",
    "    random.shuffle(mass_list)\n",
    "    file.close()\n",
    "    return mass_list"
   ]
  },
  {
   "cell_type": "code",
   "execution_count": 2,
   "metadata": {},
   "outputs": [],
   "source": [
    "def masslist_split(massList):\n",
    "    features =[]\n",
    "    classes =[]\n",
    "\n",
    "    #to seperate the feature from its actual class\n",
    "    for i in range(len(massList)):\n",
    "        feature = massList[i][:-3]\n",
    "        classe = massList[i][-2:-1]\n",
    "        \n",
    "        features.append(feature)\n",
    "        classes.append(classe)\n",
    "        \n",
    "    \n",
    "    #print(features)    \n",
    "    return features, classes\n",
    "\n"
   ]
  },
  {
   "cell_type": "code",
   "execution_count": 84,
   "metadata": {},
   "outputs": [],
   "source": [
    "def naive_bayes(features, classes):\n",
    "    count_vect = CountVectorizer()  \n",
    "    counts = count_vect.fit_transform(features)  \n",
    "    \n",
    "    transformer = TfidfTransformer()\n",
    "    counts_tf = transformer.fit_transform(counts)   \n",
    "    \n",
    "    model = MultinomialNB().fit(counts_tf, classes) \n",
    "    \n",
    "    docs_new = []\n",
    "    file = open(\"test_sentences.txt\", \"r\")\n",
    "    a_line = file.readlines()\n",
    "\n",
    "    for line in a_line:\n",
    "        docs_new.append(line)\n",
    "    \n",
    "    \n",
    "    X_new_counts = count_vect.transform(docs_new)\n",
    "    X_new_tfidf = transformer.transform(X_new_counts)\n",
    "\n",
    "    predicted = model.predict(X_new_tfidf)\n",
    "    \n",
    "    return predicted"
   ]
  },
  {
   "cell_type": "code",
   "execution_count": 85,
   "metadata": {},
   "outputs": [],
   "source": [
    "def n_myNaiveBayes():\n",
    "    massList = readTXTAndClean()\n",
    "    features, classes = masslist_split(massList)\n",
    "    predicted = naive_bayes(features, classes)\n",
    "    \n",
    "    with open(\"results_n_myNaiveBayes.txt\", \"w+\") as file:\n",
    "        file.write(str(predicted))\n",
    "\n",
    "n_myNaiveBayes()\n",
    "\n",
    "    \n",
    "\n",
    "\n",
    "\n",
    "\n",
    "\n"
   ]
  },
  {
   "cell_type": "code",
   "execution_count": null,
   "metadata": {},
   "outputs": [],
   "source": [
    "\n"
   ]
  },
  {
   "cell_type": "code",
   "execution_count": null,
   "metadata": {},
   "outputs": [],
   "source": []
  },
  {
   "cell_type": "code",
   "execution_count": null,
   "metadata": {},
   "outputs": [],
   "source": []
  },
  {
   "cell_type": "code",
   "execution_count": null,
   "metadata": {},
   "outputs": [],
   "source": []
  },
  {
   "cell_type": "code",
   "execution_count": null,
   "metadata": {},
   "outputs": [],
   "source": []
  },
  {
   "cell_type": "code",
   "execution_count": null,
   "metadata": {},
   "outputs": [],
   "source": []
  }
 ],
 "metadata": {
  "kernelspec": {
   "display_name": "Python 3",
   "language": "python",
   "name": "python3"
  },
  "language_info": {
   "codemirror_mode": {
    "name": "ipython",
    "version": 3
   },
   "file_extension": ".py",
   "mimetype": "text/x-python",
   "name": "python",
   "nbconvert_exporter": "python",
   "pygments_lexer": "ipython3",
   "version": "3.7.0"
  }
 },
 "nbformat": 4,
 "nbformat_minor": 2
}
