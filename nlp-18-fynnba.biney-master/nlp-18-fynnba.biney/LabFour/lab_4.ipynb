{
 "cells": [
  {
   "cell_type": "code",
   "execution_count": 17,
   "metadata": {},
   "outputs": [
    {
     "ename": "ModuleNotFoundError",
     "evalue": "No module named 'n_my_naive_bayes'",
     "output_type": "error",
     "traceback": [
      "\u001b[1;31m---------------------------------------------------------------------------\u001b[0m",
      "\u001b[1;31mModuleNotFoundError\u001b[0m                       Traceback (most recent call last)",
      "\u001b[1;32m<ipython-input-17-c6fb7ad41be6>\u001b[0m in \u001b[0;36m<module>\u001b[1;34m()\u001b[0m\n\u001b[1;32m----> 1\u001b[1;33m \u001b[1;32mfrom\u001b[0m \u001b[0mn_my_naive_bayes\u001b[0m \u001b[1;32mimport\u001b[0m \u001b[0mn_myNaiveBayes\u001b[0m\u001b[1;33m\u001b[0m\u001b[0m\n\u001b[0m\u001b[0;32m      2\u001b[0m \u001b[1;32mfrom\u001b[0m \u001b[0mu_my_naive_bayes\u001b[0m \u001b[1;32mimport\u001b[0m \u001b[0mu_myNaiveBayes\u001b[0m\u001b[1;33m\u001b[0m\u001b[0m\n\u001b[0;32m      3\u001b[0m \u001b[1;32mfrom\u001b[0m \u001b[0mn_my_log_reg\u001b[0m \u001b[1;32mimport\u001b[0m \u001b[0mn_myLogReg\u001b[0m\u001b[1;33m\u001b[0m\u001b[0m\n\u001b[0;32m      4\u001b[0m \u001b[1;32mfrom\u001b[0m \u001b[0mu_my_log_reg\u001b[0m \u001b[1;32mimport\u001b[0m \u001b[0mu_myLogReg\u001b[0m\u001b[1;33m\u001b[0m\u001b[0m\n\u001b[0;32m      5\u001b[0m \u001b[1;33m\u001b[0m\u001b[0m\n",
      "\u001b[1;31mModuleNotFoundError\u001b[0m: No module named 'n_my_naive_bayes'"
     ]
    }
   ],
   "source": [
    "from n_my_naive_bayes import *\n",
    "from u_my_naive_bayes import *\n",
    "from n_my_log_reg import *\n",
    "from u_my_log_reg import *\n",
    "\n",
    "import sys\n",
    "print (sys.argv)\n",
    "\n",
    "def merge_files():\n",
    "    filenames = [\"imdb_labelled.txt\", \"amazon_cells_labelled.txt\", \"yelp_labelled.txt\"]\n",
    "    with open('newfile.txt', 'w') as outfile:\n",
    "        for fname in filenames:\n",
    "            with open(fname) as infile:\n",
    "                outfile.write(infile.read())\n",
    "\n",
    "def main():\n",
    "    control =\"yes\" \n",
    "    while control ==\"yes\":\n",
    "        classifier = input(\"Which classifier do you want to use? nb or lr\")  # Python 3\n",
    "        version = input(\"Which Version? n or u\") \n",
    "\n",
    "        if classifier==\"nb\" and version==\"n\":\n",
    "            n_myNaiveBayes()   \n",
    "        elif classifier==\"nb\" and version==\"u\":\n",
    "            u_myNaiveBayes()\n",
    "        elif classifier==\"lr\" and version==\"n\":\n",
    "            u_myLogReg()\n",
    "        elif classifier==\"lr\" and version==\"u\":\n",
    "            u_myLogReg()\n",
    "        control = input(\"To continue type yes, else type no\")\n",
    "    \n",
    "main()\n",
    "    "
   ]
  },
  {
   "cell_type": "code",
   "execution_count": null,
   "metadata": {},
   "outputs": [],
   "source": []
  },
  {
   "cell_type": "code",
   "execution_count": null,
   "metadata": {},
   "outputs": [],
   "source": []
  },
  {
   "cell_type": "code",
   "execution_count": null,
   "metadata": {},
   "outputs": [],
   "source": []
  }
 ],
 "metadata": {
  "kernelspec": {
   "display_name": "Python 3",
   "language": "python",
   "name": "python3"
  },
  "language_info": {
   "codemirror_mode": {
    "name": "ipython",
    "version": 3
   },
   "file_extension": ".py",
   "mimetype": "text/x-python",
   "name": "python",
   "nbconvert_exporter": "python",
   "pygments_lexer": "ipython3",
   "version": "3.7.0"
  }
 },
 "nbformat": 4,
 "nbformat_minor": 2
}
